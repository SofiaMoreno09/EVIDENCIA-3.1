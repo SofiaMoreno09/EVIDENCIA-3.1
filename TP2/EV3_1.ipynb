{
  "nbformat": 4,
  "nbformat_minor": 0,
  "metadata": {
    "colab": {
      "provenance": [],
      "authorship_tag": "ABX9TyNlLz4UF8+xcLQpomywoVkv",
      "include_colab_link": true
    },
    "kernelspec": {
      "name": "python3",
      "display_name": "Python 3"
    },
    "language_info": {
      "name": "python"
    }
  },
  "cells": [
    {
      "cell_type": "markdown",
      "metadata": {
        "id": "view-in-github",
        "colab_type": "text"
      },
      "source": [
        "<a href=\"https://colab.research.google.com/github/SofiaMoreno09/EVIDENCIA-3.1/blob/main/TP2/EV3_1.ipynb\" target=\"_parent\"><img src=\"https://colab.research.google.com/assets/colab-badge.svg\" alt=\"Open In Colab\"/></a>"
      ]
    },
    {
      "cell_type": "markdown",
      "source": [
        "**LECCIÓN: Manejo de archivos**\n",
        "\n",
        "Los formatos más usuales para el trabajo con texto plano son:\n",
        "Archivos de texto ( .txt ): Son archivos de texto sin estructura.\n",
        "Archivos Comma Separated Values ( csv ): Son archivos de datos columnares, que se representan a través de un separador, tipicamente la\n",
        "coma ( , ) o el pipe line ( | ).\n",
        "Archivos con formato específico ( .xml y .json )\n",
        "\n",
        "**Manejo básico del sistema de archivos**\n",
        "\n",
        "Trabajo con rutas\n",
        "Las rutas físicas (path) son la ubicación de los archivos dentro del sistema de manejo de archivo de la máquina. Una ruta puede representar un\n",
        "archivo, o bien un directorio; de forma indistinta, referiremos como path a los archivos y a los directorios.\n",
        "Se tienen las siguientes funciones para el trabajo con rutas físicas.\n",
        "Función os.getcwd() : Permite recuperar la ruta de trabajo actual (current working directory).\n",
        "Función path.abspath(<ruta>) : Permite conocer la ruta absoluta normalizada (strong path). Genera menos problemas que la ruta de trabajo\n",
        "actual.\n",
        "Función path.dirname(<ruta>) : Permite conocer la parte de la ruta que corresponde al directorio.\n",
        "Función path.exists(<ruta>) : Retorna True si la ruta proporcionada existe, y False si no.\n",
        "Función path.isfile(<ruta>) : Retorna True si la ruta proporcionada corresponde a un archivo.\n",
        "Función path.isdir(<ruta>) : Retorna True si la ruta proporcionada corresponde a un directorio.\n"
      ],
      "metadata": {
        "id": "jmlbR4xXr1ki"
      }
    },
    {
      "cell_type": "code",
      "source": [
        "# Se hablilita el trabajo con el sistema operativo\n",
        "import os\n",
        "# Obtener la ruta de trabajo actual\n",
        "# (Current Working Directory)\n",
        "ruta=os.getcwd()\n",
        "print(ruta)\n",
        "# Obtiene el valor absoluto de la ruta\n",
        "ruta_absoluta=os.path.abspath(ruta)\n",
        "print(ruta_absoluta)"
      ],
      "metadata": {
        "colab": {
          "base_uri": "https://localhost:8080/"
        },
        "id": "RXE1fxn7sU1c",
        "outputId": "2198587d-b1cf-47ca-a470-df35885a60cd"
      },
      "execution_count": 1,
      "outputs": [
        {
          "output_type": "stream",
          "name": "stdout",
          "text": [
            "/content\n",
            "/content\n"
          ]
        }
      ]
    },
    {
      "cell_type": "markdown",
      "source": [
        "**Verificación de existencia de archivos**\n",
        "\n",
        "Se puede verificar la existencia de un archivo utilizando la función path.exists() ; retorna True si el archivo existe en la ruta actual de trabajo, y\n",
        "False , si no."
      ],
      "metadata": {
        "id": "hvPooqdWsZ-Y"
      }
    },
    {
      "cell_type": "code",
      "source": [
        "# Se asume que el archivo colores.txt no existe en el\n",
        "# directorio de trabajo.\n",
        "archivo=\"colores.txt\"\n",
        "# Informa si el archivo existe o no existe.\n",
        "if os.path.exists(archivo):\n",
        " print(\"\\nEl archivo ya existe\")\n",
        "else:\n",
        " print(\"\\nEl archivo no existe\")"
      ],
      "metadata": {
        "colab": {
          "base_uri": "https://localhost:8080/"
        },
        "id": "qI4muZZyssBs",
        "outputId": "f365d66f-8aee-49c6-b168-ba089e12d5f6"
      },
      "execution_count": 2,
      "outputs": [
        {
          "output_type": "stream",
          "name": "stdout",
          "text": [
            "\n",
            "El archivo no existe\n"
          ]
        }
      ]
    },
    {
      "cell_type": "markdown",
      "source": [
        "**Eliminación de archivo**\n",
        "\n",
        "Se puede eliminar un archivo utilizando la función os.remove() . Es recomendable verificar la existencia del archivo antes de intentar removerlo, ya\n",
        "que si el archivo no se encuentra, se producirá un error.\n"
      ],
      "metadata": {
        "id": "g67z1tlWsxQM"
      }
    },
    {
      "cell_type": "code",
      "source": [
        "# Si el archivo existe, lo borra\n",
        "archivo=\"colores.txt\"\n",
        "# Si el archivo existe, lo elimina.\n",
        "# Informa qué se hizo.\n",
        "if os.path.exists(archivo):\n",
        " os.remove(archivo)\n",
        " print(\"\\nEl archivo se eliminó\")\n",
        "else:\n",
        " print(\"\\nEl archivo no existe. No se eliminó nada.\")"
      ],
      "metadata": {
        "colab": {
          "base_uri": "https://localhost:8080/"
        },
        "id": "EEDcuBDds6LV",
        "outputId": "a88861df-084e-48d4-e02f-73611f6a656e"
      },
      "execution_count": 3,
      "outputs": [
        {
          "output_type": "stream",
          "name": "stdout",
          "text": [
            "\n",
            "El archivo no existe. No se eliminó nada.\n"
          ]
        }
      ]
    },
    {
      "cell_type": "markdown",
      "source": [
        "**Apertura y creación de archivos de texto plano**\n",
        "\n",
        "Apertura de archivos\n",
        "Para abrir y crear archivo de texto plano, se utiliza la función open() , que es el principal comando para el trabajo con archivos planos en Python.\n",
        "Su sintaxis es la siguiente:\n"
      ],
      "metadata": {
        "id": "xShn8CUls99S"
      }
    },
    {
      "cell_type": "code",
      "source": [
        "<apuntador_archivo>=open(<archivo>,<modo/tipo>)"
      ],
      "metadata": {
        "id": "CTFU9l7GtpCJ"
      },
      "execution_count": null,
      "outputs": []
    },
    {
      "cell_type": "markdown",
      "source": [
        "Al abrir un archivo, podremos interactuar con él a partir del apuntador de archivo, que actúa como objeto, aunque realmente opera como un flujo de\n",
        "datos entre el programa y el archivo.\n"
      ],
      "metadata": {
        "id": "1evssZG6trj5"
      }
    },
    {
      "cell_type": "markdown",
      "source": [
        "**Creación de archivos de texto plano**\n",
        "\n",
        "Se puede crear un archivo utilizando la función open() , y un modo que permita la creación del archivo.\n",
        "La función open() utiliza un apuntador de archivo, que es una variable a través de la cual se tiene acceso al archivo. La variable actúa como flujo\n",
        "entre el programa y el archivo físico que es apuntado.\n"
      ],
      "metadata": {
        "id": "a1rrmepruXiQ"
      }
    },
    {
      "cell_type": "code",
      "source": [
        "# Se abre un archivo en modo Append Extended (a+). Si el archivo no\n",
        "# existe, lo crea, con capacidad de lectura y escrituta. El\n",
        "# apuntador de escritura se coloca al final del archivo.\n",
        "archivo=\"colores.txt\"\n",
        "f = open(archivo,\"a+\")\n",
        "# Verificación de que ya se creo.\n",
        "if os.path.exists(archivo):\n",
        " print(\"\\nEl archivo ya existe\")\n",
        "else:\n",
        " print(\"\\nEl archivo no existe\")\n",
        "# Se cierra el archivo.\n",
        "f.close()"
      ],
      "metadata": {
        "colab": {
          "base_uri": "https://localhost:8080/"
        },
        "id": "nyvmZ0Spuem8",
        "outputId": "2cd8b306-443d-444e-9559-2a90cd42b9cb"
      },
      "execution_count": 4,
      "outputs": [
        {
          "output_type": "stream",
          "name": "stdout",
          "text": [
            "\n",
            "El archivo ya existe\n"
          ]
        }
      ]
    },
    {
      "cell_type": "markdown",
      "source": [
        "**Lectura y escritura de archivos**\n",
        "\n",
        "Escritura en un archivo\n",
        "Estas son las instrucciones que pueden escribir en un archivo:\n",
        "write(contenido) : Escribe un contenido.\n",
        "writelines(iterable) : Escribe los elementos de un iterable.\n",
        "Toma en cuenta que la escritura se realizará en donde se encuentre el apuntador interno del archivo, y no incluirá saltos de línea, por lo cual, en caso\n",
        "de desearlos, es necesario agregar \\n .\n",
        "\n",
        "Esto sería un ejercicio sin incluir saltos de línea:"
      ],
      "metadata": {
        "id": "30BIE6qCurbF"
      }
    },
    {
      "cell_type": "code",
      "source": [
        "# Abro el archivo en modo Write Extended.\n",
        "# Si el archivo no existe, lo genera. Si existe, lo remplaza.\n",
        "# Los contenidos van en secuencia.\n",
        "archivo=\"colores.txt\"\n",
        "f = open(archivo,\"w+\")\n",
        "# Escribo 4 contenidos en secuencia.\n",
        "f.write(\"Blanco\")\n",
        "f.write(\"Negro\")\n",
        "f.write(\"Naranja\")\n",
        "# Cierro el archivo.\n",
        "f.close()\n"
      ],
      "metadata": {
        "id": "35tyW_c7u6We"
      },
      "execution_count": 6,
      "outputs": []
    },
    {
      "cell_type": "markdown",
      "source": [
        "Esto sería un ejemplo incluyendo saltos de página:"
      ],
      "metadata": {
        "id": "KiPsUejfvAU9"
      }
    },
    {
      "cell_type": "code",
      "source": [
        "# Para saltos de línea, se utiliza \\n\n",
        "# Abro el archivo en modo Write Extended\n",
        "archivo=\"colores.txt\"\n",
        "f = open(archivo,\"w+\")\n",
        "# Escribo 4 líneas adicionales.\n",
        "f.write(\"Rojo\\n\")\n",
        "f.write(\"Amarillo\\n\")\n",
        "f.write(\"Verde\\n\")\n",
        "# Agregando los elementos de un iterable\n",
        "mas_colores=[\"Morado\\n\",\"Celeste\\n\",\"Rosa\\n\"]\n",
        "f.writelines(mas_colores)\n",
        "# Cierro el archivo.\n",
        "f.close()\n"
      ],
      "metadata": {
        "id": "WUSrWnFvvEl-"
      },
      "execution_count": 8,
      "outputs": []
    },
    {
      "cell_type": "markdown",
      "source": [
        "Otra forma de escribir líneas es utilizando el método writelines() , que toma un iterable, donde cada elemento representa una línea del archivo:"
      ],
      "metadata": {
        "id": "1anK9UfrvKsB"
      }
    },
    {
      "cell_type": "code",
      "source": [
        "archivo=\"colores.txt\"\n",
        "f = open(archivo,\"a+\")\n",
        "# Agregando los elementos de un iterable\n",
        "mas_colores=[\"Morado\\n\",\"Celeste\\n\",\"Rosa\\n\"]\n",
        "f.writelines(mas_colores)\n",
        "# Cierro el archivo.\n",
        "f.close()\n"
      ],
      "metadata": {
        "id": "6QFrh152vPcc"
      },
      "execution_count": 9,
      "outputs": []
    },
    {
      "cell_type": "markdown",
      "source": [
        "**Lectura de archivo**\n",
        "Se puede leer el contenido de un archivo utilizando la función read() . Si se aplica de esta manera, la totalidad del archivo se recupera:"
      ],
      "metadata": {
        "id": "PBCTzAvevTyd"
      }
    },
    {
      "cell_type": "code",
      "source": [
        "# Abro el archivo en modo lectura\n",
        "archivo=\"colores.txt\"\n",
        "f = open(archivo,\"r\")\n",
        "# Leo el contenido y se lo asigno a la variable\n",
        "# contenido.\n",
        "contenido=f.read()\n",
        "# Muestro el contenido. Debe ser todo el archivo.\n",
        "print(contenido)\n",
        "# Cierro el archivo.\n",
        "f.close()"
      ],
      "metadata": {
        "colab": {
          "base_uri": "https://localhost:8080/"
        },
        "id": "8lzLTfs_vYFP",
        "outputId": "a83ce88e-868d-4b8d-cec8-75ed46d7dc19"
      },
      "execution_count": 10,
      "outputs": [
        {
          "output_type": "stream",
          "name": "stdout",
          "text": [
            "Rojo\n",
            "Amarillo\n",
            "Verde\n",
            "Morado\n",
            "Celeste\n",
            "Rosa\n",
            "Morado\n",
            "Celeste\n",
            "Rosa\n",
            "\n"
          ]
        }
      ]
    },
    {
      "cell_type": "markdown",
      "source": [
        "Si se especifica un número como parámetro del método read() , quiere decir el número de caracteres que se quiere recuperar:"
      ],
      "metadata": {
        "id": "uYc3OCXGviFK"
      }
    },
    {
      "cell_type": "code",
      "source": [
        "# Abro el archivo en modo lectura\n",
        "archivo=\"colores.txt\"\n",
        "f = open(archivo,\"r\")\n",
        "# Leo únicamente los primeros 5 caracteres del archivo.\n",
        "contenido=f.read(5)\n",
        "# Muestro el contenido\n",
        "print(contenido)\n",
        "# Leo otros 5 caracteres del archivo.\n",
        "contenido=f.read(5)\n",
        "# Muestro el contenido\n",
        "print(contenido)\n",
        "# Cierro el archivo.\n",
        "f.close()\n"
      ],
      "metadata": {
        "colab": {
          "base_uri": "https://localhost:8080/"
        },
        "id": "dW4otdvYvljp",
        "outputId": "ee54c348-f3e9-47b8-e8f5-c3949db2cc2e"
      },
      "execution_count": 11,
      "outputs": [
        {
          "output_type": "stream",
          "name": "stdout",
          "text": [
            "Rojo\n",
            "\n",
            "Amari\n"
          ]
        }
      ]
    },
    {
      "cell_type": "markdown",
      "source": [
        "Se puede leer el archivo línea por línea, si se utiliza el método readline():"
      ],
      "metadata": {
        "id": "lyBRKhxcvqnc"
      }
    },
    {
      "cell_type": "code",
      "source": [
        "# Abro el archivo en modo lectura\n",
        "archivo=\"colores.txt\"\n",
        "f = open(archivo,\"r\")\n",
        "# Leo únicamente la primer línea del archivo.\n",
        "contenido=f.readline()\n",
        "# Muestro el contenido\n",
        "print(contenido)\n",
        "# Leo siguiente línea\n",
        "contenido=f.readline()\n",
        "# Muestro el contenido\n",
        "print(contenido)\n",
        "# Cierro el archivo.\n",
        "f.close()\n"
      ],
      "metadata": {
        "colab": {
          "base_uri": "https://localhost:8080/"
        },
        "id": "azg7BjMcw1xk",
        "outputId": "4608064f-c677-4672-a0a6-c633a625755a"
      },
      "execution_count": 12,
      "outputs": [
        {
          "output_type": "stream",
          "name": "stdout",
          "text": [
            "Rojo\n",
            "\n",
            "Amarillo\n",
            "\n"
          ]
        }
      ]
    },
    {
      "cell_type": "markdown",
      "source": [
        "Si se utiliza el estatuto for para leer el objeto que refiere a un archivo, el comportamiento será equivalente a utilzar readline():"
      ],
      "metadata": {
        "id": "TvtrRgA4w-pM"
      }
    },
    {
      "cell_type": "code",
      "source": [
        "# Abro el archivo en modo lectura\n",
        "archivo=\"colores.txt\"\n",
        "f = open(archivo,\"r\")\n",
        "# Leo únicamente los primeros 5 caracteres del arvhivo.\n",
        "for linea in f:\n",
        " print(\">\", linea)\n",
        "# Cierro el archivo.\n",
        "f.close()"
      ],
      "metadata": {
        "colab": {
          "base_uri": "https://localhost:8080/"
        },
        "id": "8xR3TX2GxFte",
        "outputId": "9b25247e-8264-4184-90aa-db9459eb86e2"
      },
      "execution_count": 13,
      "outputs": [
        {
          "output_type": "stream",
          "name": "stdout",
          "text": [
            "> Rojo\n",
            "\n",
            "> Amarillo\n",
            "\n",
            "> Verde\n",
            "\n",
            "> Morado\n",
            "\n",
            "> Celeste\n",
            "\n",
            "> Rosa\n",
            "\n",
            "> Morado\n",
            "\n",
            "> Celeste\n",
            "\n",
            "> Rosa\n",
            "\n"
          ]
        }
      ]
    },
    {
      "cell_type": "markdown",
      "source": [
        "**Cerrado de archivo**\n",
        "\n",
        "Como ya has visto, es muy importante que al final del trabajo con archivos, éstos se cierren, ya que de lo contrario quedarán bloqueados para su\n",
        "uso, hasta que el programa concluya.\n",
        "Se puede cerrar el flujo a un archivo utilizando la función close() . El atributo closed retorna True si el archivo está cerrado."
      ],
      "metadata": {
        "id": "2DCIRFLqxLfA"
      }
    },
    {
      "cell_type": "code",
      "source": [
        "f.close()\n",
        "print(f.closed)"
      ],
      "metadata": {
        "colab": {
          "base_uri": "https://localhost:8080/"
        },
        "id": "scPBfBEHxQ6c",
        "outputId": "4e2406c3-38ea-4b62-b09e-3dd28a4d6dcf"
      },
      "execution_count": 14,
      "outputs": [
        {
          "output_type": "stream",
          "name": "stdout",
          "text": [
            "True\n"
          ]
        }
      ]
    },
    {
      "cell_type": "markdown",
      "source": [
        "El código queda mucho más compacto:"
      ],
      "metadata": {
        "id": "_qNHlj5IxfWa"
      }
    },
    {
      "cell_type": "code",
      "source": [
        "with open(\"colores.txt\",\"r\") as f:\n",
        " contenido=f.read()\n",
        " print(contenido)\n",
        "# Comprobando que, aunque no se aplicó close(), el archivo\n",
        "# está cerrado.\n",
        "print(\"¿Archivo cerrado?\",f.closed)"
      ],
      "metadata": {
        "colab": {
          "base_uri": "https://localhost:8080/"
        },
        "id": "ROhMqKqJxiwq",
        "outputId": "73ca1f1f-441e-4c86-8f1b-503a552c0627"
      },
      "execution_count": 15,
      "outputs": [
        {
          "output_type": "stream",
          "name": "stdout",
          "text": [
            "Rojo\n",
            "Amarillo\n",
            "Verde\n",
            "Morado\n",
            "Celeste\n",
            "Rosa\n",
            "Morado\n",
            "Celeste\n",
            "Rosa\n",
            "\n",
            "¿Archivo cerrado? True\n"
          ]
        }
      ]
    },
    {
      "cell_type": "markdown",
      "source": [
        "**Uso de seek() para posicionamiento interno**\n",
        "\n",
        "Es importante mencionar que, si el modo de apertura permite lectura, es posible navegar dentro del archivo, usando el método seek() , que permite\n",
        "manipular el apuntador interno del archivo.\n"
      ],
      "metadata": {
        "id": "CYTyKRvwxmmo"
      }
    },
    {
      "cell_type": "code",
      "source": [
        "seek(<apuntador>,<referencia>)"
      ],
      "metadata": {
        "colab": {
          "base_uri": "https://localhost:8080/",
          "height": 140
        },
        "id": "Fqn0wwuox3Zx",
        "outputId": "9e6eff3f-3412-4c96-e35a-0bd327a90411"
      },
      "execution_count": 16,
      "outputs": [
        {
          "output_type": "error",
          "ename": "SyntaxError",
          "evalue": "ignored",
          "traceback": [
            "\u001b[0;36m  File \u001b[0;32m\"<ipython-input-16-008be2f24021>\"\u001b[0;36m, line \u001b[0;32m1\u001b[0m\n\u001b[0;31m    seek(<apuntador>,<referencia>)\u001b[0m\n\u001b[0m         ^\u001b[0m\n\u001b[0;31mSyntaxError\u001b[0m\u001b[0;31m:\u001b[0m invalid syntax\n"
          ]
        }
      ]
    },
    {
      "cell_type": "code",
      "source": [
        "# Lista a escribir en un archivo.\n",
        "marcas=[\"Audi\\n\",\"Alfa Romeo\\n\",\"BMW\\n\",\"Mercedes Benz\\n\"]\n",
        "# Se abre en modo Write Extended, que permite lectura.\n",
        "with open(\"marcas.txt\",\"w+\") as f:\n",
        " # Escribe cada elemento de la lista como una línea\n",
        " f.writelines(marcas)\n",
        " # Se va al inicio del archivo.\n",
        " f.seek(0,0)\n",
        " # Lee secuencialmente el archivo, desde el inicio.\n",
        " for linea in f:\n",
        " print(linea)\n"
      ],
      "metadata": {
        "colab": {
          "base_uri": "https://localhost:8080/",
          "height": 140
        },
        "id": "5zF1cFyEyMZu",
        "outputId": "9873692d-5b83-4fe8-d22d-438f7e584eea"
      },
      "execution_count": 17,
      "outputs": [
        {
          "output_type": "error",
          "ename": "IndentationError",
          "evalue": "ignored",
          "traceback": [
            "\u001b[0;36m  File \u001b[0;32m\"<ipython-input-17-31ef0db7dd7d>\"\u001b[0;36m, line \u001b[0;32m11\u001b[0m\n\u001b[0;31m    print(linea)\u001b[0m\n\u001b[0m    ^\u001b[0m\n\u001b[0;31mIndentationError\u001b[0m\u001b[0;31m:\u001b[0m expected an indented block after 'for' statement on line 10\n"
          ]
        }
      ]
    },
    {
      "cell_type": "markdown",
      "source": [
        "**Trabajando con archivos CSV**"
      ],
      "metadata": {
        "id": "KrOVrEbHyh6-"
      }
    },
    {
      "cell_type": "code",
      "source": [
        "# Datos iniciales. Entradas es una lista que contiene listas.\n",
        "Entradas=[\n",
        " ['correo','nombre','telefono'],\n",
        " ['juan@gmail.com','Juan','8123232323'],\n",
        " ['maria@gmail.com','Maria','5545454545'],\n",
        " ['diana@homail.com','Diana','4490909090']\n",
        "]\n",
        "for e in Entradas:\n",
        " print(f'{e[0]}|{e[1]}|{e[2]}')\n"
      ],
      "metadata": {
        "colab": {
          "base_uri": "https://localhost:8080/"
        },
        "id": "-7Pe4_NZy0cL",
        "outputId": "a80e098b-42d5-4c5b-c992-fbf6735c259b"
      },
      "execution_count": 18,
      "outputs": [
        {
          "output_type": "stream",
          "name": "stdout",
          "text": [
            "correo|nombre|telefono\n",
            "juan@gmail.com|Juan|8123232323\n",
            "maria@gmail.com|Maria|5545454545\n",
            "diana@homail.com|Diana|4490909090\n"
          ]
        }
      ]
    },
    {
      "cell_type": "markdown",
      "source": [
        "**Pasando de una lista de datos a un CSV**"
      ],
      "metadata": {
        "id": "TlZb_vQfy4wl"
      }
    },
    {
      "cell_type": "code",
      "source": [
        "# Se imprime el contenido de la lista, para cotejar.\n",
        "print(\">> Contenido de la lista.\\n\")\n",
        "print(Entradas)\n",
        "# Revisa si existe el CSV, en cuyo caso, si existe el BAK lo elimina\n",
        "# y renombra el CSV como BAK\n",
        "if os.path.exists(\"agenda.csv\"):\n",
        " if (os.path.exists(\"agenda.bak\")):\n",
        " os.remove(\"agenda.bak\")\n",
        " os.rename(\"agenda.csv\",\"agenda.bak\")\n",
        "# Se escribe el contenido de la lista, usando with y F-String\n",
        "with open(\"agenda.csv\",\"w+\") as f:\n",
        " for e in Entradas:\n",
        " f.write(f\"{e[0]}|{e[1]}|{e[2]}\\n\")\n",
        "# Se revisa el contenido del archivo.\n",
        "print(\"\\n>> Contenido del archivo.\\n\")\n",
        "with open(\"agenda.csv\") as f:\n",
        " print(f.read())"
      ],
      "metadata": {
        "colab": {
          "base_uri": "https://localhost:8080/",
          "height": 140
        },
        "id": "1DfboDPty6Yi",
        "outputId": "6ee5a3b9-75d7-442a-deae-ee9be57bf83c"
      },
      "execution_count": 19,
      "outputs": [
        {
          "output_type": "error",
          "ename": "IndentationError",
          "evalue": "ignored",
          "traceback": [
            "\u001b[0;36m  File \u001b[0;32m\"<ipython-input-19-a482324aa1ab>\"\u001b[0;36m, line \u001b[0;32m8\u001b[0m\n\u001b[0;31m    os.remove(\"agenda.bak\")\u001b[0m\n\u001b[0m    ^\u001b[0m\n\u001b[0;31mIndentationError\u001b[0m\u001b[0;31m:\u001b[0m expected an indented block after 'if' statement on line 7\n"
          ]
        }
      ]
    },
    {
      "cell_type": "markdown",
      "source": [
        "Esta sería la versión abreviada de la serialización manual a CSV, usando pipe como separador:"
      ],
      "metadata": {
        "id": "hhVAyQ6qzEDF"
      }
    },
    {
      "cell_type": "code",
      "source": [
        "Entradas=[\n",
        " ['correo','nombre','telefono'],\n",
        " ['juan@gmail.com','Juan','8123232323'],\n",
        " ['maria@gmail.com','Maria','5545454545'],\n",
        " ['diana@homail.com','Diana','4490909090']\n",
        "]\n",
        "with open(\"agenda.csv\",\"w+\") as f:\n",
        " for e in Entradas:\n",
        " f.write(f\"{e[0]}|{e[1]}|{e[2]}\\n\")\n"
      ],
      "metadata": {
        "colab": {
          "base_uri": "https://localhost:8080/",
          "height": 140
        },
        "id": "NVyP7zlezFs8",
        "outputId": "9476335e-b6d1-46f6-a2ab-9c14c31be20a"
      },
      "execution_count": 20,
      "outputs": [
        {
          "output_type": "error",
          "ename": "IndentationError",
          "evalue": "ignored",
          "traceback": [
            "\u001b[0;36m  File \u001b[0;32m\"<ipython-input-20-032993943799>\"\u001b[0;36m, line \u001b[0;32m9\u001b[0m\n\u001b[0;31m    f.write(f\"{e[0]}|{e[1]}|{e[2]}\\n\")\u001b[0m\n\u001b[0m    ^\u001b[0m\n\u001b[0;31mIndentationError\u001b[0m\u001b[0;31m:\u001b[0m expected an indented block after 'for' statement on line 8\n"
          ]
        }
      ]
    },
    {
      "cell_type": "markdown",
      "source": [
        "**Pasando de un CSV a una lista**\n"
      ],
      "metadata": {
        "id": "pY5APLJAzUnA"
      }
    },
    {
      "cell_type": "code",
      "source": [
        "# Se crea una lista vacía.\n",
        "Datos=[]\n",
        "# Se lee el archivo de forma secuencial, y se agregan los elementos\n",
        "# a la lista.\n",
        "with open(\"agenda.csv\",\"r\") as f:\n",
        " # Se lee secuencialmente el archivo de texto.\n",
        " for linea in f:\n",
        " # Se toma el texto de la línea leída, y se divide tomando como separador\n",
        " # el caracter pipe. La función retorna una lista, donde cada parte del\n",
        " # texto es un elemento.\n",
        " lista=linea.split(\"|\")\n",
        " # El último elemento contiene \\n como salto de linea. Se remplaza por nada.\n",
        " lista[2]=lista[2].replace(\"\\n\",\"\")\n",
        " Datos.append(lista)\n",
        "\n",
        "# Se revisa el contenido de la lista\n",
        "print(\">> Contenido de la nueva lista.\\n\")\n",
        "print(Datos)"
      ],
      "metadata": {
        "colab": {
          "base_uri": "https://localhost:8080/",
          "height": 140
        },
        "id": "lXbXTaVAzY4p",
        "outputId": "11903729-3208-4bfe-b1f0-170a77fb8b09"
      },
      "execution_count": 21,
      "outputs": [
        {
          "output_type": "error",
          "ename": "IndentationError",
          "evalue": "ignored",
          "traceback": [
            "\u001b[0;36m  File \u001b[0;32m\"<ipython-input-21-234facc5efbb>\"\u001b[0;36m, line \u001b[0;32m11\u001b[0m\n\u001b[0;31m    lista=linea.split(\"|\")\u001b[0m\n\u001b[0m    ^\u001b[0m\n\u001b[0;31mIndentationError\u001b[0m\u001b[0;31m:\u001b[0m expected an indented block after 'for' statement on line 7\n"
          ]
        }
      ]
    },
    {
      "cell_type": "markdown",
      "source": [
        "Esta sería la versión abreviada de la deserialización manual desde CSV, usando pipe como separador:"
      ],
      "metadata": {
        "id": "Oi0RbRRizhDM"
      }
    },
    {
      "cell_type": "code",
      "source": [
        "Datos=[]\n",
        "with open(\"agenda.csv\",\"r+\") as f:\n",
        " for linea in f:\n",
        " lista=linea.split(\"|\")\n",
        " lista[2]=lista[2].replace(\"\\n\",\"\")\n",
        " Datos.append(lista)"
      ],
      "metadata": {
        "colab": {
          "base_uri": "https://localhost:8080/",
          "height": 140
        },
        "id": "kxFZri31zikO",
        "outputId": "b068de4f-5e7e-469a-9b86-63dfc6339bbd"
      },
      "execution_count": 22,
      "outputs": [
        {
          "output_type": "error",
          "ename": "IndentationError",
          "evalue": "ignored",
          "traceback": [
            "\u001b[0;36m  File \u001b[0;32m\"<ipython-input-22-73c6356bdde4>\"\u001b[0;36m, line \u001b[0;32m4\u001b[0m\n\u001b[0;31m    lista=linea.split(\"|\")\u001b[0m\n\u001b[0m    ^\u001b[0m\n\u001b[0;31mIndentationError\u001b[0m\u001b[0;31m:\u001b[0m expected an indented block after 'for' statement on line 3\n"
          ]
        }
      ]
    },
    {
      "cell_type": "markdown",
      "source": [
        "**Serialización JSON y Pickle**"
      ],
      "metadata": {
        "id": "AzeC5m7Tzxgp"
      }
    },
    {
      "cell_type": "code",
      "source": [
        "# Se importa el módulo para trabajar con JSON.\n",
        "import json\n",
        "# Se crea un objeto de muestra, para serializar.\n",
        "Original=[\n",
        " ['correo','nombre','telefono'],\n",
        " ['juan@gmail.com','Juan','8123232323'],\n",
        " ['maria@gmail.com','Maria','5545454545'],\n",
        " ['diana@homail.com','Diana','4490909090']\n",
        "]\n",
        "print(\">> Tipo del objeto.\\n\")\n",
        "print(type(Original))\n",
        "print(\"\\n>> Contenido del objeto.\\n\")\n",
        "print(Original)\n",
        "print(\"\\n>> Serialización a JSON.\\n\")\n",
        "Original_JSON=json.dumps(Original,indent=4)\n",
        "print(Original_JSON)\n",
        "print(\"\\n>> Deserialización desde JSON.\\n\")\n",
        "Nueva_Lista=json.loads(Original_JSON)\n",
        "print(Nueva_Lista)\n",
        "print(type(Nueva_Lista))\n",
        "print(\"\\n>> Comprobando igualdad de objetos.\\n\")\n",
        "print(Original==Nueva_Lista)"
      ],
      "metadata": {
        "colab": {
          "base_uri": "https://localhost:8080/"
        },
        "id": "zQckegOgzzbh",
        "outputId": "ad7ae313-1f33-40e8-b265-7e2ce85a3505"
      },
      "execution_count": 23,
      "outputs": [
        {
          "output_type": "stream",
          "name": "stdout",
          "text": [
            ">> Tipo del objeto.\n",
            "\n",
            "<class 'list'>\n",
            "\n",
            ">> Contenido del objeto.\n",
            "\n",
            "[['correo', 'nombre', 'telefono'], ['juan@gmail.com', 'Juan', '8123232323'], ['maria@gmail.com', 'Maria', '5545454545'], ['diana@homail.com', 'Diana', '4490909090']]\n",
            "\n",
            ">> Serialización a JSON.\n",
            "\n",
            "[\n",
            "    [\n",
            "        \"correo\",\n",
            "        \"nombre\",\n",
            "        \"telefono\"\n",
            "    ],\n",
            "    [\n",
            "        \"juan@gmail.com\",\n",
            "        \"Juan\",\n",
            "        \"8123232323\"\n",
            "    ],\n",
            "    [\n",
            "        \"maria@gmail.com\",\n",
            "        \"Maria\",\n",
            "        \"5545454545\"\n",
            "    ],\n",
            "    [\n",
            "        \"diana@homail.com\",\n",
            "        \"Diana\",\n",
            "        \"4490909090\"\n",
            "    ]\n",
            "]\n",
            "\n",
            ">> Deserialización desde JSON.\n",
            "\n",
            "[['correo', 'nombre', 'telefono'], ['juan@gmail.com', 'Juan', '8123232323'], ['maria@gmail.com', 'Maria', '5545454545'], ['diana@homail.com', 'Diana', '4490909090']]\n",
            "<class 'list'>\n",
            "\n",
            ">> Comprobando igualdad de objetos.\n",
            "\n",
            "True\n"
          ]
        }
      ]
    },
    {
      "cell_type": "markdown",
      "source": [
        "El contenido de un objeto JSON puede pasarse a un archivo json, y leerse desde ahí, para darle persistencia:"
      ],
      "metadata": {
        "id": "0Wmv_SZsz_vb"
      }
    },
    {
      "cell_type": "code",
      "source": [
        "# Grabando el JSON en un archivo.\n",
        "with open(\"archivo.json\",\"w+\") as f:\n",
        " json.dump(Original,f,indent=4)\n",
        "# Leyendo datos de un archivo json\n",
        "with open(\"archivo.json\",\"r\") as f:\n",
        " recuperados=json.load(f)\n",
        "print(recuperados)\n",
        "print(\"\\n>> Comprobando igualdad de objetos.\\n\")\n",
        "print(Original==recuperados)\n"
      ],
      "metadata": {
        "colab": {
          "base_uri": "https://localhost:8080/"
        },
        "id": "OPaqqRRK0BYa",
        "outputId": "a36d3494-7c29-4bfb-870b-c6daff4d064c"
      },
      "execution_count": 24,
      "outputs": [
        {
          "output_type": "stream",
          "name": "stdout",
          "text": [
            "[['correo', 'nombre', 'telefono'], ['juan@gmail.com', 'Juan', '8123232323'], ['maria@gmail.com', 'Maria', '5545454545'], ['diana@homail.com', 'Diana', '4490909090']]\n",
            "\n",
            ">> Comprobando igualdad de objetos.\n",
            "\n",
            "True\n"
          ]
        }
      ]
    },
    {
      "cell_type": "markdown",
      "source": [
        "**Serialización usando Pickle**"
      ],
      "metadata": {
        "id": "NMZYnqTA0JeE"
      }
    },
    {
      "cell_type": "code",
      "source": [
        "# Se importa el módulo para trabajar con JSON.\n",
        "import pickle\n",
        "# Observa cómo pickle es un formato binario.\n",
        "print(\"\\n>> Serialización a Pickle.\\n\")\n",
        "Original_pickle=pickle.dumps(Original)\n",
        "print(Original_pickle)\n",
        "print(\"\\n>> Deserialización desde Pickle.\\n\")\n",
        "Nueva_Lista=pickle.loads(Original_pickle)\n",
        "print(Nueva_Lista)\n",
        "print(type(Nueva_Lista))\n",
        "print(\"\\n>> Comprobando igualdad de objetos.\\n\")\n",
        "print(Original==Nueva_Lista)"
      ],
      "metadata": {
        "colab": {
          "base_uri": "https://localhost:8080/"
        },
        "id": "3zMks2uh0LPE",
        "outputId": "51ad7a91-ee13-488c-88a8-5300ccda5661"
      },
      "execution_count": 25,
      "outputs": [
        {
          "output_type": "stream",
          "name": "stdout",
          "text": [
            "\n",
            ">> Serialización a Pickle.\n",
            "\n",
            "b'\\x80\\x04\\x95\\xa6\\x00\\x00\\x00\\x00\\x00\\x00\\x00]\\x94(]\\x94(\\x8c\\x06correo\\x94\\x8c\\x06nombre\\x94\\x8c\\x08telefono\\x94e]\\x94(\\x8c\\x0ejuan@gmail.com\\x94\\x8c\\x04Juan\\x94\\x8c\\n8123232323\\x94e]\\x94(\\x8c\\x0fmaria@gmail.com\\x94\\x8c\\x05Maria\\x94\\x8c\\n5545454545\\x94e]\\x94(\\x8c\\x10diana@homail.com\\x94\\x8c\\x05Diana\\x94\\x8c\\n4490909090\\x94ee.'\n",
            "\n",
            ">> Deserialización desde Pickle.\n",
            "\n",
            "[['correo', 'nombre', 'telefono'], ['juan@gmail.com', 'Juan', '8123232323'], ['maria@gmail.com', 'Maria', '5545454545'], ['diana@homail.com', 'Diana', '4490909090']]\n",
            "<class 'list'>\n",
            "\n",
            ">> Comprobando igualdad de objetos.\n",
            "\n",
            "True\n"
          ]
        }
      ]
    },
    {
      "cell_type": "markdown",
      "source": [
        "El contenido de un objeto pickle puede pasarse a un archivo, y leerse desde ahí, para darle persistencia. Es importante hacer notar que tanto la\n",
        "escritura como la lectura, son especificando contenidos binarios ( b ):"
      ],
      "metadata": {
        "id": "rUWn9CPu0RKE"
      }
    },
    {
      "cell_type": "code",
      "source": [
        "# Grabando el pickle en un archivo.\n",
        "with open(\"archivo.pickle\",\"wb+\") as f:\n",
        " pickle.dump(Original,f)\n",
        "# Leyendo datos de un archivo pickle\n",
        "with open(\"archivo.pickle\",\"rb\") as f:\n",
        " recuperados=pickle.load(f)\n",
        "print(recuperados)\n",
        "print(\"\\n>> Comprobando igualdad de objetos.\\n\")\n",
        "print(Original==recuperados)"
      ],
      "metadata": {
        "colab": {
          "base_uri": "https://localhost:8080/"
        },
        "id": "-E9EAWEf0Vda",
        "outputId": "829f3c1b-cf5c-4514-eba5-dcce8f5470dc"
      },
      "execution_count": 26,
      "outputs": [
        {
          "output_type": "stream",
          "name": "stdout",
          "text": [
            "[['correo', 'nombre', 'telefono'], ['juan@gmail.com', 'Juan', '8123232323'], ['maria@gmail.com', 'Maria', '5545454545'], ['diana@homail.com', 'Diana', '4490909090']]\n",
            "\n",
            ">> Comprobando igualdad de objetos.\n",
            "\n",
            "True\n"
          ]
        }
      ]
    },
    {
      "cell_type": "markdown",
      "source": [
        "# LAB Agenda persistente usando archivos CSV y\n",
        "# serialización JSON (Resuelto):\n",
        "\n",
        "\n",
        "En este LAB se explora forma en que se puede tener información persistente en archivos planos, y la forma en que se puede serializar la\n",
        "información usando archivos CSV y JSON.\n"
      ],
      "metadata": {
        "id": "gbCKtvvu0gU2"
      }
    },
    {
      "cell_type": "code",
      "source": [
        "# Datos iniciales. Carga y mostrado.\n",
        "Entradas=[\n",
        " ['correo','nombre','telefono'],\n",
        " ['juan@gmail.com','Juan','8123232323'],\n",
        " ['maria@gmail.com','Maria','5545454545'],\n",
        " ['diana@homail.com','Diana','4490909090']\n",
        "]\n",
        "for e in Entradas:\n",
        " print(f'{e[0]},{e[1]},{e[2]}')"
      ],
      "metadata": {
        "colab": {
          "base_uri": "https://localhost:8080/"
        },
        "id": "4Q9TkRdS0rTU",
        "outputId": "c4887311-1ada-4e26-a624-f0ebf0fc737d"
      },
      "execution_count": 27,
      "outputs": [
        {
          "output_type": "stream",
          "name": "stdout",
          "text": [
            "correo,nombre,telefono\n",
            "juan@gmail.com,Juan,8123232323\n",
            "maria@gmail.com,Maria,5545454545\n",
            "diana@homail.com,Diana,4490909090\n"
          ]
        }
      ]
    },
    {
      "cell_type": "markdown",
      "source": [
        "PARTE 1: Trabajo con archivos CSV\n",
        "Eliminación y renombrado de archivos\n",
        "Tareas por hacer:\n",
        "1. Importa las librerías requeridas para el manejo de archivos.\n",
        "2. Muestra el directorio actual de trabajo (Current Working Directory).\n",
        "3. Si existen los archivos de respaldo, elimínalos.\n",
        "4. Si existen los archivos de datos, renómbralos para que sean de respaldo."
      ],
      "metadata": {
        "id": "akh-uVlY1peW"
      }
    },
    {
      "cell_type": "code",
      "source": [
        "# Importar el módulo requerido para el manejo de archivos.\n",
        "import os\n",
        "# Muestra el directorio actual de trabajo. Utiliza getcwd()\n",
        "print(os.getcwd())\n"
      ],
      "metadata": {
        "colab": {
          "base_uri": "https://localhost:8080/"
        },
        "id": "KDE8MWam1rjb",
        "outputId": "365d8221-6b08-483a-eac1-e78c8267eac6"
      },
      "execution_count": 28,
      "outputs": [
        {
          "output_type": "stream",
          "name": "stdout",
          "text": [
            "/content\n"
          ]
        }
      ]
    },
    {
      "cell_type": "code",
      "source": [
        "# Verifica si existen los archivos de respaldo, en cuyo\n",
        "# caso, se eliminan. Usa exists() y remove()\n",
        "if os.path.exists('agenda.csv.bak'):\n",
        " os.remove('agenda.csv.bak')\n",
        "if os.path.exists('agenda.json.bak'):\n",
        " os.remove('agenda.json.bak')\n",
        "# Verifica si existen los archivos de trabajo con datos, en cuyo\n",
        "# caso, se renombran a sus equivalentes de respaldo.\n",
        "# Usa exists() y rename()\n",
        "if os.path.exists('agenda.csv'):\n",
        " os.rename('agenda.csv','agenda.csv.bak')\n",
        "if os.path.exists('agenda.json'):\n",
        " os.rename('agenda.json','agenda.json.bak')\n",
        "# Este código no genera salidas.\n"
      ],
      "metadata": {
        "id": "z9rPRkYY13B9"
      },
      "execution_count": 29,
      "outputs": []
    },
    {
      "cell_type": "markdown",
      "source": [
        "*Escritura de archivos a partir de listas (lista a CSV)\n",
        "Realiza las sigientes acciones:*\n",
        "\n",
        "Abre el archivo de datos CSV, en modo Write Extended. Usa open() con el modo w+ .\n",
        "Escribe el encabezado del archivo CSV. Los campos son correo , nombre y telefono . Usa write() .\n",
        "Escribe una línea del CSV por cada elemento de la lista. Usa write() .\n",
        "No olvides que CSV delimita las columnas usando pipe line ( | ), incluso al inicio y al final.\n",
        "No olvides colocar \\n al final de cada línea, para provocar el salto de línea."
      ],
      "metadata": {
        "id": "tvtNybSj1-uo"
      }
    },
    {
      "cell_type": "code",
      "source": [
        "# Abrir el archivo de datos CSV como Write Extended.\n",
        "# Usar como apuntador de archivo \"f\".\n",
        "# usa open() y el modo w+\n",
        "f = open('agenda.csv','w+')\n",
        "# Escribir los datos de la lista, como datos del CSV\n",
        "# Usa for para leer la lista secuencialmente.\n",
        "# Apóyate en F-String para el formato.\n",
        "# No olvides el salto de línea.\n",
        "for e in Entradas:\n",
        " f.write(f'{e[0]}|{e[1]}|{e[2]}\\n')\n",
        "# No olvides cerrar el archivo\n",
        "f.close()\n",
        "# Comprueba en tu directorio de trabajo, si ya existe el\n",
        "# archivo de datos CSV.\n",
        "# Este código no genera salidas."
      ],
      "metadata": {
        "id": "ZwOeTil42CqK"
      },
      "execution_count": 30,
      "outputs": []
    },
    {
      "cell_type": "markdown",
      "source": [
        "Lectura de archivos y carga de datos en listas (CSV a lista)\n",
        "Acciones por hacer:\n",
        "1. Lee todo el contenido del archivo de datos CSV, y muéstralo.\n",
        "2. Lee línea por línea el archivo, y cárgalo en una lista.\n"
      ],
      "metadata": {
        "id": "xzFi_lH02WvJ"
      }
    },
    {
      "cell_type": "code",
      "source": [
        "# Abre el archivo de datos CSV, en modo de solo lectura.\n",
        "# Usa f como apuntador de archivo. Usa open() en modo r.\n",
        "f=open('agenda.csv','r')\n",
        "# Lee el contenido del archivo y colócalo en una variable\n",
        "# llamada contenido. Utiliza read().\n",
        "contenido=f.read()\n",
        "# Cierra el archivo. Utiliza close()\n",
        "f.close()\n",
        "# Muestra el contenido del archivo, que ya tienes en una variable.\n",
        "print(contenido)"
      ],
      "metadata": {
        "colab": {
          "base_uri": "https://localhost:8080/"
        },
        "id": "Rl_bS02l2X9a",
        "outputId": "cf1ed2a4-1bbc-45aa-b83b-ecbc6c274005"
      },
      "execution_count": 31,
      "outputs": [
        {
          "output_type": "stream",
          "name": "stdout",
          "text": [
            "correo|nombre|telefono\n",
            "juan@gmail.com|Juan|8123232323\n",
            "maria@gmail.com|Maria|5545454545\n",
            "diana@homail.com|Diana|4490909090\n",
            "\n"
          ]
        }
      ]
    },
    {
      "cell_type": "code",
      "source": [
        "# Se genera una lista vacía llamada Contactos\n",
        "Contactos=[]\n",
        "# Abrir el archivo de datos CSV, en modo de solo lectura.\n",
        "# usa open, en modo r.\n",
        "f = open('agenda.csv','r')\n",
        "# Elabora un ciclo for, que coloque en una variable llamada\n",
        "# linea a cada una de las líneas en el archivo apuntado\n",
        "# como f. Recuerda que leer un archivo plano con for equivale\n",
        "# a leerlo línea por línea.\n",
        "for linea in f:\n",
        " # Asigna a una variable llamada lista_datos, el equivalente\n",
        " # en lista del contenido de datos, usando como separador\n",
        " # el pipe line. Usa split(), con \"|\" como delimitador.\n",
        " lista_datos=linea.split('|')\n",
        " print(lista_datos)\n",
        " # Elimina el salto de línea del último elemento de la lista\n",
        " lista_datos[2]=lista_datos[2].replace(\"\\n\",\"\")\n",
        " # Agrega la lista de datos contenida en lista_datos\n",
        " # a la lista Contactos\n",
        " Contactos.append(lista_datos)\n",
        "# Cerrar archivo\n",
        "f.close()\n",
        "# Imprime Entradas y Contactos, y comprueba que son iguales\n",
        "print(Entradas)\n",
        "print(Contactos)"
      ],
      "metadata": {
        "colab": {
          "base_uri": "https://localhost:8080/"
        },
        "id": "1VDbegR_2f-X",
        "outputId": "2a0556a8-753e-4e7c-962c-baddabebfe40"
      },
      "execution_count": 32,
      "outputs": [
        {
          "output_type": "stream",
          "name": "stdout",
          "text": [
            "['correo', 'nombre', 'telefono\\n']\n",
            "['juan@gmail.com', 'Juan', '8123232323\\n']\n",
            "['maria@gmail.com', 'Maria', '5545454545\\n']\n",
            "['diana@homail.com', 'Diana', '4490909090\\n']\n",
            "[['correo', 'nombre', 'telefono'], ['juan@gmail.com', 'Juan', '8123232323'], ['maria@gmail.com', 'Maria', '5545454545'], ['diana@homail.com', 'Diana', '4490909090']]\n",
            "[['correo', 'nombre', 'telefono'], ['juan@gmail.com', 'Juan', '8123232323'], ['maria@gmail.com', 'Maria', '5545454545'], ['diana@homail.com', 'Diana', '4490909090']]\n"
          ]
        }
      ]
    },
    {
      "cell_type": "markdown",
      "source": [
        "Serializar a JSON"
      ],
      "metadata": {
        "id": "BgDzFIbG2kKp"
      }
    },
    {
      "cell_type": "code",
      "source": [
        "# Importa la librería para el soporte JSON\n",
        "import json\n",
        "# Almacena en una variable llamada datos_json, que almacene\n",
        "# un volcado de datos. Utiliza dumps().\n",
        "# Proporciona formato con identación a 4 posiciones.\n",
        "datos_json=json.dumps(Contactos,indent=4)\n",
        "# Muestra el contenido serializado.\n",
        "print(datos_json)\n"
      ],
      "metadata": {
        "colab": {
          "base_uri": "https://localhost:8080/"
        },
        "id": "j1SxRGCO2lBY",
        "outputId": "37635de2-0bdf-46e5-81ac-9f60f3d25920"
      },
      "execution_count": 33,
      "outputs": [
        {
          "output_type": "stream",
          "name": "stdout",
          "text": [
            "[\n",
            "    [\n",
            "        \"correo\",\n",
            "        \"nombre\",\n",
            "        \"telefono\"\n",
            "    ],\n",
            "    [\n",
            "        \"juan@gmail.com\",\n",
            "        \"Juan\",\n",
            "        \"8123232323\"\n",
            "    ],\n",
            "    [\n",
            "        \"maria@gmail.com\",\n",
            "        \"Maria\",\n",
            "        \"5545454545\"\n",
            "    ],\n",
            "    [\n",
            "        \"diana@homail.com\",\n",
            "        \"Diana\",\n",
            "        \"4490909090\"\n",
            "    ]\n",
            "]\n"
          ]
        }
      ]
    },
    {
      "cell_type": "markdown",
      "source": [
        "Crear un archivo JSON"
      ],
      "metadata": {
        "id": "4bAiqUkz2qm1"
      }
    },
    {
      "cell_type": "code",
      "source": [
        "# Guarda la serialización en un archivo como agenda.json.\n",
        "# Utiliza open() en modo Write Extended.\n",
        "# Usa f como apuntador de archivo.\n",
        "f = open('agenda.json','w+')\n",
        "f.write(datos_json)\n",
        "f.close()\n",
        "# Este código no genera salidas."
      ],
      "metadata": {
        "id": "YHOzvumK2rUY"
      },
      "execution_count": 34,
      "outputs": []
    },
    {
      "cell_type": "markdown",
      "source": [
        "Leer archivo JSON (JSON a lista)"
      ],
      "metadata": {
        "id": "DPCbZNsH2uAo"
      }
    },
    {
      "cell_type": "code",
      "source": [
        "# Abrir el archivo de datos JSON, en modo de solo lectura.\n",
        "# usa open(), en modo r. Usa el apuntador de archivo f.\n",
        "f = open('agenda.json','r')\n",
        "# Carga el contenido JSON en una lista. Usa loads() y read().\n",
        "# Almacena la lectura en una variable llamada Contactos_JSON.\n",
        "Contactos_JSON=json.loads(f.read())\n",
        "# Imprime Entradas, Contactos y Contactos JSON.\n",
        "# Comprueba que son iguales.\n",
        "print(Entradas)\n",
        "print(Contactos)\n",
        "print(Contactos_JSON)"
      ],
      "metadata": {
        "colab": {
          "base_uri": "https://localhost:8080/"
        },
        "id": "bixO44H32wM_",
        "outputId": "90173c66-af40-4612-ec6f-bf67427608a5"
      },
      "execution_count": 35,
      "outputs": [
        {
          "output_type": "stream",
          "name": "stdout",
          "text": [
            "[['correo', 'nombre', 'telefono'], ['juan@gmail.com', 'Juan', '8123232323'], ['maria@gmail.com', 'Maria', '5545454545'], ['diana@homail.com', 'Diana', '4490909090']]\n",
            "[['correo', 'nombre', 'telefono'], ['juan@gmail.com', 'Juan', '8123232323'], ['maria@gmail.com', 'Maria', '5545454545'], ['diana@homail.com', 'Diana', '4490909090']]\n",
            "[['correo', 'nombre', 'telefono'], ['juan@gmail.com', 'Juan', '8123232323'], ['maria@gmail.com', 'Maria', '5545454545'], ['diana@homail.com', 'Diana', '4490909090']]\n"
          ]
        }
      ]
    },
    {
      "cell_type": "markdown",
      "source": [
        "PARTE 3: Serialización pickle en forma abreviada\n",
        "Acciones a desarrollar:\n",
        "Importar la librería para el manejo de formato pickle.\n",
        "Serializar una lista en formato pickle, a archivo.\n",
        "Cargar el contenido del archivo pickle a una lista llamada recuperada.\n",
        "Usar en todo momento with\n",
        "Revisar que pickle es un formato binario\n",
        "Comparar el objeto inicial con el objeto final."
      ],
      "metadata": {
        "id": "d6U5aK8O23mb"
      }
    },
    {
      "cell_type": "code",
      "source": [
        "# Importar los módulos para trabajar con pickle y con archivos\n",
        "import os\n",
        "import pickle"
      ],
      "metadata": {
        "id": "SCvvB07t26bw"
      },
      "execution_count": 36,
      "outputs": []
    },
    {
      "cell_type": "code",
      "source": [
        "# Muestra el contenido y el tipo del objeto Entradas, que es el\n",
        "# objeto que deseamos serializar y transportar.\n",
        "print(Entradas)\n",
        "print(type(Entradas))\n"
      ],
      "metadata": {
        "colab": {
          "base_uri": "https://localhost:8080/"
        },
        "id": "rIBx9TzJ3EOB",
        "outputId": "363d08b1-bc23-4104-a48c-c115641896ba"
      },
      "execution_count": 37,
      "outputs": [
        {
          "output_type": "stream",
          "name": "stdout",
          "text": [
            "[['correo', 'nombre', 'telefono'], ['juan@gmail.com', 'Juan', '8123232323'], ['maria@gmail.com', 'Maria', '5545454545'], ['diana@homail.com', 'Diana', '4490909090']]\n",
            "<class 'list'>\n"
          ]
        }
      ]
    },
    {
      "cell_type": "code",
      "source": [
        "# Serializa Entradas, usando un archivo pickle llamado\n",
        "# Entradas.pickle. Recuerda que pickle es formato binario\n",
        "# por lo que el tipo de contenido debe ser binario, al escribir.\n",
        "# Utilza with, open() en modo Write Binary Extended, y dump(), para\n",
        "# el manejo de pickle con archivos.\n",
        "with open(\"Entradas.pickle\",\"wb+\") as f:\n",
        " pickle.dump(Entradas,f)\n",
        "\n",
        "# Revisa el archivo .pickle que se ha creado, y comprueba que es\n",
        "# binario.\n"
      ],
      "metadata": {
        "id": "bQhxcgp63H1Y"
      },
      "execution_count": 38,
      "outputs": []
    },
    {
      "cell_type": "code",
      "source": [
        "# Recupera el contenido del archivo Entradas.pickle, y asígnalo a una\n",
        "# lista llamada Recuperado. Recuerda que pickle es formato binario\n",
        "# por lo que el tipo de contenido debe ser binario, al leer.\n",
        "# Utilza with, open() en modo Read Binary, y load(), para\n",
        "# el manejo de pickle con archivos.\n",
        "with open(\"Entradas.pickle\",\"rb\") as f:\n",
        " Recuperado=pickle.load(f)\n"
      ],
      "metadata": {
        "id": "KXULR9RW3K4n"
      },
      "execution_count": 39,
      "outputs": []
    },
    {
      "cell_type": "code",
      "source": [
        "# Compara el objeto Entradas con el objeto Recuperado\n",
        "# deben ser iguales.\n",
        "print(Entradas==Recuperado)"
      ],
      "metadata": {
        "colab": {
          "base_uri": "https://localhost:8080/"
        },
        "id": "pIzEVhn03P4_",
        "outputId": "17e4bdc4-9bb8-415d-a100-4f696d87361b"
      },
      "execution_count": 40,
      "outputs": [
        {
          "output_type": "stream",
          "name": "stdout",
          "text": [
            "True\n"
          ]
        }
      ]
    }
  ]
}